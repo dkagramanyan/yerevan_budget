{
 "cells": [
  {
   "cell_type": "code",
   "execution_count": 98,
   "metadata": {
    "collapsed": true,
    "ExecuteTime": {
     "end_time": "2023-06-18T13:12:31.671487900Z",
     "start_time": "2023-06-18T13:12:31.655531300Z"
    }
   },
   "outputs": [],
   "source": [
    "import pandas as pd\n",
    "import numpy as np\n",
    "from matplotlib import pyplot as plt\n",
    "\n",
    "import copy"
   ]
  },
  {
   "cell_type": "markdown",
   "source": [
    "# Read .xlsx file from FineReader"
   ],
   "metadata": {
    "collapsed": false
   }
  },
  {
   "cell_type": "code",
   "execution_count": 106,
   "outputs": [],
   "source": [
    "df = pd.read_excel('1-11_full.xlsx')"
   ],
   "metadata": {
    "collapsed": false,
    "ExecuteTime": {
     "end_time": "2023-06-18T13:17:01.725156100Z",
     "start_time": "2023-06-18T13:17:00.468202500Z"
    }
   }
  },
  {
   "cell_type": "code",
   "execution_count": 3,
   "outputs": [
    {
     "data": {
      "text/plain": "Index(['Հավելված 1\\1 1', 'Unnamed: 1', 'Unnamed: 2', 'Unnamed: 3',\n       'Unnamed: 4', 'Unnamed: 5', 'Unnamed: 6', 'Unnamed: 7', 'Unnamed: 8',\n       'Unnamed: 9', 'Unnamed: 10', 'Unnamed: 11', 'Unnamed: 12',\n       'Unnamed: 13', 'Unnamed: 14'],\n      dtype='object')"
     },
     "execution_count": 3,
     "metadata": {},
     "output_type": "execute_result"
    }
   ],
   "source": [
    "df.columns"
   ],
   "metadata": {
    "collapsed": false,
    "ExecuteTime": {
     "end_time": "2023-06-18T10:59:01.707547900Z",
     "start_time": "2023-06-18T10:59:01.696577700Z"
    }
   }
  },
  {
   "cell_type": "code",
   "execution_count": 4,
   "outputs": [
    {
     "data": {
      "text/plain": "'Հավելված 1\\\\1 1'"
     },
     "execution_count": 4,
     "metadata": {},
     "output_type": "execute_result"
    }
   ],
   "source": [
    "first_colum = 'Հավելված 1\\\\1 1'\n",
    "first_colum"
   ],
   "metadata": {
    "collapsed": false,
    "ExecuteTime": {
     "end_time": "2023-06-18T10:59:01.766392700Z",
     "start_time": "2023-06-18T10:59:01.710557Z"
    }
   }
  },
  {
   "cell_type": "code",
   "execution_count": 24,
   "outputs": [
    {
     "data": {
      "text/plain": "         Հավելված 1\\1 1 Unnamed: 1 Unnamed: 2 Unnamed: 3 Unnamed: 4  \\\n0     Երևանի քաղաքապետի        NaN        NaN        NaN        NaN   \n132   Երևանի քաղաքապետի        NaN        NaN        NaN        NaN   \n261   Երևանի քաղաքապետի        NaN        NaN        NaN        NaN   \n348   Երևանի քաղաքապետի        NaN        NaN        NaN        NaN   \n418   Երևանի քաղաքապետի        NaN        NaN        NaN        NaN   \n489   Երևանի քաղաքապետի        NaN        NaN        NaN        NaN   \n562   Երևանի քաղաքապետի        NaN        NaN        NaN        NaN   \n641   Երևանի քաղաքապետի        NaN        NaN        NaN        NaN   \n711   Երևանի քաղաքապետի        NaN        NaN        NaN        NaN   \n781   Երևանի քաղաքապետի        NaN        NaN        NaN        NaN   \n855   Երևանի քաղաքապետի        NaN        NaN        NaN        NaN   \n928   Երևանի քաղաքապետի        NaN        NaN        NaN        NaN   \n1001  Երևանի քաղաքապետի        NaN        NaN        NaN        NaN   \n1077  Երևանի քաղաքապետի        NaN        NaN        NaN        NaN   \n1151  Երևանի քաղաքապետի        NaN        NaN        NaN        NaN   \n1331  Երևանի քաղաքապետի        NaN        NaN        NaN        NaN   \n1487  Երևանի քաղաքապետի        NaN        NaN        NaN        NaN   \n1503  Երևանի քաղաքապետի        NaN        NaN        NaN        NaN   \n1554  Երևանի քաղաքապետի        NaN        NaN        NaN        NaN   \n2279  Երևանի քաղաքապետի        NaN        NaN        NaN        NaN   \n3039  Երևանի քաղաքապետի        NaN        NaN        NaN        NaN   \n3288  Երևանի քաղաքապետի        NaN        NaN        NaN        NaN   \n3523  Երևանի քաղաքապետի        NaN        NaN        NaN        NaN   \n3799  Երևանի քաղաքապետի        NaN        NaN        NaN        NaN   \n4027  Երևանի քաղաքապետի        NaN        NaN        NaN        NaN   \n4297  Երևանի քաղաքապետի        NaN        NaN        NaN        NaN   \n4581  Երևանի քաղաքապետի        NaN        NaN        NaN        NaN   \n4879  Երևանի քաղաքապետի        NaN        NaN        NaN        NaN   \n5139  Երևանի քաղաքապետի        NaN        NaN        NaN        NaN   \n5359  Երևանի քաղաքապետի        NaN        NaN        NaN        NaN   \n5604  Երևանի քաղաքապետի        NaN        NaN        NaN        NaN   \n5904  Երևանի քաղաքապետի        NaN        NaN        NaN        NaN   \n6154  Երևանի քաղաքապետի        NaN        NaN        NaN        NaN   \n6179  Երևանի քաղաքապետի        NaN        NaN        NaN        NaN   \n6201  Երևանի քաղաքապետի        NaN        NaN        NaN        NaN   \n6225  Երևանի քաղաքապետի        NaN        NaN        NaN        NaN   \n6243  Երևանի քաղաքապետի        NaN        NaN        NaN        NaN   \n6263  Երևանի քաղաքապետի        NaN        NaN        NaN        NaN   \n6301  Երևանի քաղաքապետի        NaN        NaN        NaN        NaN   \n6321  Երևանի քաղաքապետի        NaN        NaN        NaN        NaN   \n6341  Երևանի քաղաքապետի        NaN        NaN        NaN        NaN   \n6365  Երևանի քաղաքապետի        NaN        NaN        NaN        NaN   \n6407  Երևանի քաղաքապետի        NaN        NaN        NaN        NaN   \n6500  Երևանի քաղաքապետի        NaN        NaN        NaN        NaN   \n6521  Երևանի քաղաքապետի        NaN        NaN        NaN        NaN   \n6586  Երևանի քաղաքապետի        NaN        NaN        NaN        NaN   \n6609  Երևանի քաղաքապետի        NaN        NaN        NaN        NaN   \n6660  Երևանի քաղաքապետի        NaN        NaN        NaN        NaN   \n6679  Երևանի քաղաքապետի        NaN        NaN        NaN        NaN   \n6709  Երևանի քաղաքապետի        NaN        NaN        NaN        NaN   \n6929  Երևանի քաղաքապետի        NaN        NaN        NaN        NaN   \n7085  Երևանի քաղաքապետի        NaN        NaN        NaN        NaN   \n\n     Unnamed: 5 Unnamed: 6 Unnamed: 7 Unnamed: 8 Unnamed: 9 Unnamed: 10  \\\n0           NaN        NaN        NaN        NaN        NaN         NaN   \n132         NaN        NaN        NaN        NaN        NaN         NaN   \n261         NaN        NaN        NaN        NaN        NaN         NaN   \n348         NaN        NaN        NaN        NaN        NaN         NaN   \n418         NaN        NaN        NaN        NaN        NaN         NaN   \n489         NaN        NaN        NaN        NaN        NaN         NaN   \n562         NaN        NaN        NaN        NaN        NaN         NaN   \n641         NaN        NaN        NaN        NaN        NaN         NaN   \n711         NaN        NaN        NaN        NaN        NaN         NaN   \n781         NaN        NaN        NaN        NaN        NaN         NaN   \n855         NaN        NaN        NaN        NaN        NaN         NaN   \n928         NaN        NaN        NaN        NaN        NaN         NaN   \n1001        NaN        NaN        NaN        NaN        NaN         NaN   \n1077        NaN        NaN        NaN        NaN        NaN         NaN   \n1151        NaN        NaN        NaN        NaN        NaN         NaN   \n1331        NaN        NaN        NaN        NaN        NaN         NaN   \n1487        NaN        NaN        NaN        NaN        NaN         NaN   \n1503        NaN        NaN        NaN        NaN        NaN         NaN   \n1554        NaN        NaN        NaN        NaN        NaN         NaN   \n2279        NaN        NaN        NaN        NaN        NaN         NaN   \n3039        NaN        NaN        NaN        NaN        NaN         NaN   \n3288        NaN        NaN        NaN        NaN        NaN         NaN   \n3523        NaN        NaN        NaN        NaN        NaN         NaN   \n3799        NaN        NaN        NaN        NaN        NaN         NaN   \n4027        NaN        NaN        NaN        NaN        NaN         NaN   \n4297        NaN        NaN        NaN        NaN        NaN         NaN   \n4581        NaN        NaN        NaN        NaN        NaN         NaN   \n4879        NaN        NaN        NaN        NaN        NaN         NaN   \n5139        NaN        NaN        NaN        NaN        NaN         NaN   \n5359        NaN        NaN        NaN        NaN        NaN         NaN   \n5604        NaN        NaN        NaN        NaN        NaN         NaN   \n5904        NaN        NaN        NaN        NaN        NaN         NaN   \n6154        NaN        NaN        NaN        NaN        NaN         NaN   \n6179        NaN        NaN        NaN        NaN        NaN         NaN   \n6201        NaN        NaN        NaN        NaN        NaN         NaN   \n6225        NaN        NaN        NaN        NaN        NaN         NaN   \n6243        NaN        NaN        NaN        NaN        NaN         NaN   \n6263        NaN        NaN        NaN        NaN        NaN         NaN   \n6301        NaN        NaN        NaN        NaN        NaN         NaN   \n6321        NaN        NaN        NaN        NaN        NaN         NaN   \n6341        NaN        NaN        NaN        NaN        NaN         NaN   \n6365        NaN        NaN        NaN        NaN        NaN         NaN   \n6407        NaN        NaN        NaN        NaN        NaN         NaN   \n6500        NaN        NaN        NaN        NaN        NaN         NaN   \n6521        NaN        NaN        NaN        NaN        NaN         NaN   \n6586        NaN        NaN        NaN        NaN        NaN         NaN   \n6609        NaN        NaN        NaN        NaN        NaN         NaN   \n6660        NaN        NaN        NaN        NaN        NaN         NaN   \n6679        NaN        NaN        NaN        NaN        NaN         NaN   \n6709        NaN        NaN        NaN        NaN        NaN         NaN   \n6929        NaN        NaN        NaN        NaN        NaN         NaN   \n7085        NaN        NaN        NaN        NaN        NaN         NaN   \n\n     Unnamed: 11 Unnamed: 12 Unnamed: 13 Unnamed: 14  \n0            NaN         NaN         NaN         NaN  \n132          NaN         NaN         NaN         NaN  \n261          NaN         NaN         NaN         NaN  \n348          NaN         NaN         NaN         NaN  \n418          NaN         NaN         NaN         NaN  \n489          NaN         NaN         NaN         NaN  \n562          NaN         NaN         NaN         NaN  \n641          NaN         NaN         NaN         NaN  \n711          NaN         NaN         NaN         NaN  \n781          NaN         NaN         NaN         NaN  \n855          NaN         NaN         NaN         NaN  \n928          NaN         NaN         NaN         NaN  \n1001         NaN         NaN         NaN         NaN  \n1077         NaN         NaN         NaN         NaN  \n1151         NaN         NaN         NaN         NaN  \n1331         NaN         NaN         NaN         NaN  \n1487         NaN         NaN         NaN         NaN  \n1503         NaN         NaN         NaN         NaN  \n1554         NaN         NaN         NaN         NaN  \n2279         NaN         NaN         NaN         NaN  \n3039         NaN         NaN         NaN         NaN  \n3288         NaN         NaN         NaN         NaN  \n3523         NaN         NaN         NaN         NaN  \n3799         NaN         NaN         NaN         NaN  \n4027         NaN         NaN         NaN         NaN  \n4297         NaN         NaN         NaN         NaN  \n4581         NaN         NaN         NaN         NaN  \n4879         NaN         NaN         NaN         NaN  \n5139         NaN         NaN         NaN         NaN  \n5359         NaN         NaN         NaN         NaN  \n5604         NaN         NaN         NaN         NaN  \n5904         NaN         NaN         NaN         NaN  \n6154         NaN         NaN         NaN         NaN  \n6179         NaN         NaN         NaN         NaN  \n6201         NaN         NaN         NaN         NaN  \n6225         NaN         NaN         NaN         NaN  \n6243         NaN         NaN         NaN         NaN  \n6263         NaN         NaN         NaN         NaN  \n6301         NaN         NaN         NaN         NaN  \n6321         NaN         NaN         NaN         NaN  \n6341         NaN         NaN         NaN         NaN  \n6365         NaN         NaN         NaN         NaN  \n6407         NaN         NaN         NaN         NaN  \n6500         NaN         NaN         NaN         NaN  \n6521         NaN         NaN         NaN         NaN  \n6586         NaN         NaN         NaN         NaN  \n6609         NaN         NaN         NaN         NaN  \n6660         NaN         NaN         NaN         NaN  \n6679         NaN         NaN         NaN         NaN  \n6709         NaN         NaN         NaN         NaN  \n6929         NaN         NaN         NaN         NaN  \n7085         NaN         NaN         NaN         NaN  ",
      "text/html": "<div>\n<style scoped>\n    .dataframe tbody tr th:only-of-type {\n        vertical-align: middle;\n    }\n\n    .dataframe tbody tr th {\n        vertical-align: top;\n    }\n\n    .dataframe thead th {\n        text-align: right;\n    }\n</style>\n<table border=\"1\" class=\"dataframe\">\n  <thead>\n    <tr style=\"text-align: right;\">\n      <th></th>\n      <th>Հավելված 1\\1 1</th>\n      <th>Unnamed: 1</th>\n      <th>Unnamed: 2</th>\n      <th>Unnamed: 3</th>\n      <th>Unnamed: 4</th>\n      <th>Unnamed: 5</th>\n      <th>Unnamed: 6</th>\n      <th>Unnamed: 7</th>\n      <th>Unnamed: 8</th>\n      <th>Unnamed: 9</th>\n      <th>Unnamed: 10</th>\n      <th>Unnamed: 11</th>\n      <th>Unnamed: 12</th>\n      <th>Unnamed: 13</th>\n      <th>Unnamed: 14</th>\n    </tr>\n  </thead>\n  <tbody>\n    <tr>\n      <th>0</th>\n      <td>Երևանի քաղաքապետի</td>\n      <td>NaN</td>\n      <td>NaN</td>\n      <td>NaN</td>\n      <td>NaN</td>\n      <td>NaN</td>\n      <td>NaN</td>\n      <td>NaN</td>\n      <td>NaN</td>\n      <td>NaN</td>\n      <td>NaN</td>\n      <td>NaN</td>\n      <td>NaN</td>\n      <td>NaN</td>\n      <td>NaN</td>\n    </tr>\n    <tr>\n      <th>132</th>\n      <td>Երևանի քաղաքապետի</td>\n      <td>NaN</td>\n      <td>NaN</td>\n      <td>NaN</td>\n      <td>NaN</td>\n      <td>NaN</td>\n      <td>NaN</td>\n      <td>NaN</td>\n      <td>NaN</td>\n      <td>NaN</td>\n      <td>NaN</td>\n      <td>NaN</td>\n      <td>NaN</td>\n      <td>NaN</td>\n      <td>NaN</td>\n    </tr>\n    <tr>\n      <th>261</th>\n      <td>Երևանի քաղաքապետի</td>\n      <td>NaN</td>\n      <td>NaN</td>\n      <td>NaN</td>\n      <td>NaN</td>\n      <td>NaN</td>\n      <td>NaN</td>\n      <td>NaN</td>\n      <td>NaN</td>\n      <td>NaN</td>\n      <td>NaN</td>\n      <td>NaN</td>\n      <td>NaN</td>\n      <td>NaN</td>\n      <td>NaN</td>\n    </tr>\n    <tr>\n      <th>348</th>\n      <td>Երևանի քաղաքապետի</td>\n      <td>NaN</td>\n      <td>NaN</td>\n      <td>NaN</td>\n      <td>NaN</td>\n      <td>NaN</td>\n      <td>NaN</td>\n      <td>NaN</td>\n      <td>NaN</td>\n      <td>NaN</td>\n      <td>NaN</td>\n      <td>NaN</td>\n      <td>NaN</td>\n      <td>NaN</td>\n      <td>NaN</td>\n    </tr>\n    <tr>\n      <th>418</th>\n      <td>Երևանի քաղաքապետի</td>\n      <td>NaN</td>\n      <td>NaN</td>\n      <td>NaN</td>\n      <td>NaN</td>\n      <td>NaN</td>\n      <td>NaN</td>\n      <td>NaN</td>\n      <td>NaN</td>\n      <td>NaN</td>\n      <td>NaN</td>\n      <td>NaN</td>\n      <td>NaN</td>\n      <td>NaN</td>\n      <td>NaN</td>\n    </tr>\n    <tr>\n      <th>489</th>\n      <td>Երևանի քաղաքապետի</td>\n      <td>NaN</td>\n      <td>NaN</td>\n      <td>NaN</td>\n      <td>NaN</td>\n      <td>NaN</td>\n      <td>NaN</td>\n      <td>NaN</td>\n      <td>NaN</td>\n      <td>NaN</td>\n      <td>NaN</td>\n      <td>NaN</td>\n      <td>NaN</td>\n      <td>NaN</td>\n      <td>NaN</td>\n    </tr>\n    <tr>\n      <th>562</th>\n      <td>Երևանի քաղաքապետի</td>\n      <td>NaN</td>\n      <td>NaN</td>\n      <td>NaN</td>\n      <td>NaN</td>\n      <td>NaN</td>\n      <td>NaN</td>\n      <td>NaN</td>\n      <td>NaN</td>\n      <td>NaN</td>\n      <td>NaN</td>\n      <td>NaN</td>\n      <td>NaN</td>\n      <td>NaN</td>\n      <td>NaN</td>\n    </tr>\n    <tr>\n      <th>641</th>\n      <td>Երևանի քաղաքապետի</td>\n      <td>NaN</td>\n      <td>NaN</td>\n      <td>NaN</td>\n      <td>NaN</td>\n      <td>NaN</td>\n      <td>NaN</td>\n      <td>NaN</td>\n      <td>NaN</td>\n      <td>NaN</td>\n      <td>NaN</td>\n      <td>NaN</td>\n      <td>NaN</td>\n      <td>NaN</td>\n      <td>NaN</td>\n    </tr>\n    <tr>\n      <th>711</th>\n      <td>Երևանի քաղաքապետի</td>\n      <td>NaN</td>\n      <td>NaN</td>\n      <td>NaN</td>\n      <td>NaN</td>\n      <td>NaN</td>\n      <td>NaN</td>\n      <td>NaN</td>\n      <td>NaN</td>\n      <td>NaN</td>\n      <td>NaN</td>\n      <td>NaN</td>\n      <td>NaN</td>\n      <td>NaN</td>\n      <td>NaN</td>\n    </tr>\n    <tr>\n      <th>781</th>\n      <td>Երևանի քաղաքապետի</td>\n      <td>NaN</td>\n      <td>NaN</td>\n      <td>NaN</td>\n      <td>NaN</td>\n      <td>NaN</td>\n      <td>NaN</td>\n      <td>NaN</td>\n      <td>NaN</td>\n      <td>NaN</td>\n      <td>NaN</td>\n      <td>NaN</td>\n      <td>NaN</td>\n      <td>NaN</td>\n      <td>NaN</td>\n    </tr>\n    <tr>\n      <th>855</th>\n      <td>Երևանի քաղաքապետի</td>\n      <td>NaN</td>\n      <td>NaN</td>\n      <td>NaN</td>\n      <td>NaN</td>\n      <td>NaN</td>\n      <td>NaN</td>\n      <td>NaN</td>\n      <td>NaN</td>\n      <td>NaN</td>\n      <td>NaN</td>\n      <td>NaN</td>\n      <td>NaN</td>\n      <td>NaN</td>\n      <td>NaN</td>\n    </tr>\n    <tr>\n      <th>928</th>\n      <td>Երևանի քաղաքապետի</td>\n      <td>NaN</td>\n      <td>NaN</td>\n      <td>NaN</td>\n      <td>NaN</td>\n      <td>NaN</td>\n      <td>NaN</td>\n      <td>NaN</td>\n      <td>NaN</td>\n      <td>NaN</td>\n      <td>NaN</td>\n      <td>NaN</td>\n      <td>NaN</td>\n      <td>NaN</td>\n      <td>NaN</td>\n    </tr>\n    <tr>\n      <th>1001</th>\n      <td>Երևանի քաղաքապետի</td>\n      <td>NaN</td>\n      <td>NaN</td>\n      <td>NaN</td>\n      <td>NaN</td>\n      <td>NaN</td>\n      <td>NaN</td>\n      <td>NaN</td>\n      <td>NaN</td>\n      <td>NaN</td>\n      <td>NaN</td>\n      <td>NaN</td>\n      <td>NaN</td>\n      <td>NaN</td>\n      <td>NaN</td>\n    </tr>\n    <tr>\n      <th>1077</th>\n      <td>Երևանի քաղաքապետի</td>\n      <td>NaN</td>\n      <td>NaN</td>\n      <td>NaN</td>\n      <td>NaN</td>\n      <td>NaN</td>\n      <td>NaN</td>\n      <td>NaN</td>\n      <td>NaN</td>\n      <td>NaN</td>\n      <td>NaN</td>\n      <td>NaN</td>\n      <td>NaN</td>\n      <td>NaN</td>\n      <td>NaN</td>\n    </tr>\n    <tr>\n      <th>1151</th>\n      <td>Երևանի քաղաքապետի</td>\n      <td>NaN</td>\n      <td>NaN</td>\n      <td>NaN</td>\n      <td>NaN</td>\n      <td>NaN</td>\n      <td>NaN</td>\n      <td>NaN</td>\n      <td>NaN</td>\n      <td>NaN</td>\n      <td>NaN</td>\n      <td>NaN</td>\n      <td>NaN</td>\n      <td>NaN</td>\n      <td>NaN</td>\n    </tr>\n    <tr>\n      <th>1331</th>\n      <td>Երևանի քաղաքապետի</td>\n      <td>NaN</td>\n      <td>NaN</td>\n      <td>NaN</td>\n      <td>NaN</td>\n      <td>NaN</td>\n      <td>NaN</td>\n      <td>NaN</td>\n      <td>NaN</td>\n      <td>NaN</td>\n      <td>NaN</td>\n      <td>NaN</td>\n      <td>NaN</td>\n      <td>NaN</td>\n      <td>NaN</td>\n    </tr>\n    <tr>\n      <th>1487</th>\n      <td>Երևանի քաղաքապետի</td>\n      <td>NaN</td>\n      <td>NaN</td>\n      <td>NaN</td>\n      <td>NaN</td>\n      <td>NaN</td>\n      <td>NaN</td>\n      <td>NaN</td>\n      <td>NaN</td>\n      <td>NaN</td>\n      <td>NaN</td>\n      <td>NaN</td>\n      <td>NaN</td>\n      <td>NaN</td>\n      <td>NaN</td>\n    </tr>\n    <tr>\n      <th>1503</th>\n      <td>Երևանի քաղաքապետի</td>\n      <td>NaN</td>\n      <td>NaN</td>\n      <td>NaN</td>\n      <td>NaN</td>\n      <td>NaN</td>\n      <td>NaN</td>\n      <td>NaN</td>\n      <td>NaN</td>\n      <td>NaN</td>\n      <td>NaN</td>\n      <td>NaN</td>\n      <td>NaN</td>\n      <td>NaN</td>\n      <td>NaN</td>\n    </tr>\n    <tr>\n      <th>1554</th>\n      <td>Երևանի քաղաքապետի</td>\n      <td>NaN</td>\n      <td>NaN</td>\n      <td>NaN</td>\n      <td>NaN</td>\n      <td>NaN</td>\n      <td>NaN</td>\n      <td>NaN</td>\n      <td>NaN</td>\n      <td>NaN</td>\n      <td>NaN</td>\n      <td>NaN</td>\n      <td>NaN</td>\n      <td>NaN</td>\n      <td>NaN</td>\n    </tr>\n    <tr>\n      <th>2279</th>\n      <td>Երևանի քաղաքապետի</td>\n      <td>NaN</td>\n      <td>NaN</td>\n      <td>NaN</td>\n      <td>NaN</td>\n      <td>NaN</td>\n      <td>NaN</td>\n      <td>NaN</td>\n      <td>NaN</td>\n      <td>NaN</td>\n      <td>NaN</td>\n      <td>NaN</td>\n      <td>NaN</td>\n      <td>NaN</td>\n      <td>NaN</td>\n    </tr>\n    <tr>\n      <th>3039</th>\n      <td>Երևանի քաղաքապետի</td>\n      <td>NaN</td>\n      <td>NaN</td>\n      <td>NaN</td>\n      <td>NaN</td>\n      <td>NaN</td>\n      <td>NaN</td>\n      <td>NaN</td>\n      <td>NaN</td>\n      <td>NaN</td>\n      <td>NaN</td>\n      <td>NaN</td>\n      <td>NaN</td>\n      <td>NaN</td>\n      <td>NaN</td>\n    </tr>\n    <tr>\n      <th>3288</th>\n      <td>Երևանի քաղաքապետի</td>\n      <td>NaN</td>\n      <td>NaN</td>\n      <td>NaN</td>\n      <td>NaN</td>\n      <td>NaN</td>\n      <td>NaN</td>\n      <td>NaN</td>\n      <td>NaN</td>\n      <td>NaN</td>\n      <td>NaN</td>\n      <td>NaN</td>\n      <td>NaN</td>\n      <td>NaN</td>\n      <td>NaN</td>\n    </tr>\n    <tr>\n      <th>3523</th>\n      <td>Երևանի քաղաքապետի</td>\n      <td>NaN</td>\n      <td>NaN</td>\n      <td>NaN</td>\n      <td>NaN</td>\n      <td>NaN</td>\n      <td>NaN</td>\n      <td>NaN</td>\n      <td>NaN</td>\n      <td>NaN</td>\n      <td>NaN</td>\n      <td>NaN</td>\n      <td>NaN</td>\n      <td>NaN</td>\n      <td>NaN</td>\n    </tr>\n    <tr>\n      <th>3799</th>\n      <td>Երևանի քաղաքապետի</td>\n      <td>NaN</td>\n      <td>NaN</td>\n      <td>NaN</td>\n      <td>NaN</td>\n      <td>NaN</td>\n      <td>NaN</td>\n      <td>NaN</td>\n      <td>NaN</td>\n      <td>NaN</td>\n      <td>NaN</td>\n      <td>NaN</td>\n      <td>NaN</td>\n      <td>NaN</td>\n      <td>NaN</td>\n    </tr>\n    <tr>\n      <th>4027</th>\n      <td>Երևանի քաղաքապետի</td>\n      <td>NaN</td>\n      <td>NaN</td>\n      <td>NaN</td>\n      <td>NaN</td>\n      <td>NaN</td>\n      <td>NaN</td>\n      <td>NaN</td>\n      <td>NaN</td>\n      <td>NaN</td>\n      <td>NaN</td>\n      <td>NaN</td>\n      <td>NaN</td>\n      <td>NaN</td>\n      <td>NaN</td>\n    </tr>\n    <tr>\n      <th>4297</th>\n      <td>Երևանի քաղաքապետի</td>\n      <td>NaN</td>\n      <td>NaN</td>\n      <td>NaN</td>\n      <td>NaN</td>\n      <td>NaN</td>\n      <td>NaN</td>\n      <td>NaN</td>\n      <td>NaN</td>\n      <td>NaN</td>\n      <td>NaN</td>\n      <td>NaN</td>\n      <td>NaN</td>\n      <td>NaN</td>\n      <td>NaN</td>\n    </tr>\n    <tr>\n      <th>4581</th>\n      <td>Երևանի քաղաքապետի</td>\n      <td>NaN</td>\n      <td>NaN</td>\n      <td>NaN</td>\n      <td>NaN</td>\n      <td>NaN</td>\n      <td>NaN</td>\n      <td>NaN</td>\n      <td>NaN</td>\n      <td>NaN</td>\n      <td>NaN</td>\n      <td>NaN</td>\n      <td>NaN</td>\n      <td>NaN</td>\n      <td>NaN</td>\n    </tr>\n    <tr>\n      <th>4879</th>\n      <td>Երևանի քաղաքապետի</td>\n      <td>NaN</td>\n      <td>NaN</td>\n      <td>NaN</td>\n      <td>NaN</td>\n      <td>NaN</td>\n      <td>NaN</td>\n      <td>NaN</td>\n      <td>NaN</td>\n      <td>NaN</td>\n      <td>NaN</td>\n      <td>NaN</td>\n      <td>NaN</td>\n      <td>NaN</td>\n      <td>NaN</td>\n    </tr>\n    <tr>\n      <th>5139</th>\n      <td>Երևանի քաղաքապետի</td>\n      <td>NaN</td>\n      <td>NaN</td>\n      <td>NaN</td>\n      <td>NaN</td>\n      <td>NaN</td>\n      <td>NaN</td>\n      <td>NaN</td>\n      <td>NaN</td>\n      <td>NaN</td>\n      <td>NaN</td>\n      <td>NaN</td>\n      <td>NaN</td>\n      <td>NaN</td>\n      <td>NaN</td>\n    </tr>\n    <tr>\n      <th>5359</th>\n      <td>Երևանի քաղաքապետի</td>\n      <td>NaN</td>\n      <td>NaN</td>\n      <td>NaN</td>\n      <td>NaN</td>\n      <td>NaN</td>\n      <td>NaN</td>\n      <td>NaN</td>\n      <td>NaN</td>\n      <td>NaN</td>\n      <td>NaN</td>\n      <td>NaN</td>\n      <td>NaN</td>\n      <td>NaN</td>\n      <td>NaN</td>\n    </tr>\n    <tr>\n      <th>5604</th>\n      <td>Երևանի քաղաքապետի</td>\n      <td>NaN</td>\n      <td>NaN</td>\n      <td>NaN</td>\n      <td>NaN</td>\n      <td>NaN</td>\n      <td>NaN</td>\n      <td>NaN</td>\n      <td>NaN</td>\n      <td>NaN</td>\n      <td>NaN</td>\n      <td>NaN</td>\n      <td>NaN</td>\n      <td>NaN</td>\n      <td>NaN</td>\n    </tr>\n    <tr>\n      <th>5904</th>\n      <td>Երևանի քաղաքապետի</td>\n      <td>NaN</td>\n      <td>NaN</td>\n      <td>NaN</td>\n      <td>NaN</td>\n      <td>NaN</td>\n      <td>NaN</td>\n      <td>NaN</td>\n      <td>NaN</td>\n      <td>NaN</td>\n      <td>NaN</td>\n      <td>NaN</td>\n      <td>NaN</td>\n      <td>NaN</td>\n      <td>NaN</td>\n    </tr>\n    <tr>\n      <th>6154</th>\n      <td>Երևանի քաղաքապետի</td>\n      <td>NaN</td>\n      <td>NaN</td>\n      <td>NaN</td>\n      <td>NaN</td>\n      <td>NaN</td>\n      <td>NaN</td>\n      <td>NaN</td>\n      <td>NaN</td>\n      <td>NaN</td>\n      <td>NaN</td>\n      <td>NaN</td>\n      <td>NaN</td>\n      <td>NaN</td>\n      <td>NaN</td>\n    </tr>\n    <tr>\n      <th>6179</th>\n      <td>Երևանի քաղաքապետի</td>\n      <td>NaN</td>\n      <td>NaN</td>\n      <td>NaN</td>\n      <td>NaN</td>\n      <td>NaN</td>\n      <td>NaN</td>\n      <td>NaN</td>\n      <td>NaN</td>\n      <td>NaN</td>\n      <td>NaN</td>\n      <td>NaN</td>\n      <td>NaN</td>\n      <td>NaN</td>\n      <td>NaN</td>\n    </tr>\n    <tr>\n      <th>6201</th>\n      <td>Երևանի քաղաքապետի</td>\n      <td>NaN</td>\n      <td>NaN</td>\n      <td>NaN</td>\n      <td>NaN</td>\n      <td>NaN</td>\n      <td>NaN</td>\n      <td>NaN</td>\n      <td>NaN</td>\n      <td>NaN</td>\n      <td>NaN</td>\n      <td>NaN</td>\n      <td>NaN</td>\n      <td>NaN</td>\n      <td>NaN</td>\n    </tr>\n    <tr>\n      <th>6225</th>\n      <td>Երևանի քաղաքապետի</td>\n      <td>NaN</td>\n      <td>NaN</td>\n      <td>NaN</td>\n      <td>NaN</td>\n      <td>NaN</td>\n      <td>NaN</td>\n      <td>NaN</td>\n      <td>NaN</td>\n      <td>NaN</td>\n      <td>NaN</td>\n      <td>NaN</td>\n      <td>NaN</td>\n      <td>NaN</td>\n      <td>NaN</td>\n    </tr>\n    <tr>\n      <th>6243</th>\n      <td>Երևանի քաղաքապետի</td>\n      <td>NaN</td>\n      <td>NaN</td>\n      <td>NaN</td>\n      <td>NaN</td>\n      <td>NaN</td>\n      <td>NaN</td>\n      <td>NaN</td>\n      <td>NaN</td>\n      <td>NaN</td>\n      <td>NaN</td>\n      <td>NaN</td>\n      <td>NaN</td>\n      <td>NaN</td>\n      <td>NaN</td>\n    </tr>\n    <tr>\n      <th>6263</th>\n      <td>Երևանի քաղաքապետի</td>\n      <td>NaN</td>\n      <td>NaN</td>\n      <td>NaN</td>\n      <td>NaN</td>\n      <td>NaN</td>\n      <td>NaN</td>\n      <td>NaN</td>\n      <td>NaN</td>\n      <td>NaN</td>\n      <td>NaN</td>\n      <td>NaN</td>\n      <td>NaN</td>\n      <td>NaN</td>\n      <td>NaN</td>\n    </tr>\n    <tr>\n      <th>6301</th>\n      <td>Երևանի քաղաքապետի</td>\n      <td>NaN</td>\n      <td>NaN</td>\n      <td>NaN</td>\n      <td>NaN</td>\n      <td>NaN</td>\n      <td>NaN</td>\n      <td>NaN</td>\n      <td>NaN</td>\n      <td>NaN</td>\n      <td>NaN</td>\n      <td>NaN</td>\n      <td>NaN</td>\n      <td>NaN</td>\n      <td>NaN</td>\n    </tr>\n    <tr>\n      <th>6321</th>\n      <td>Երևանի քաղաքապետի</td>\n      <td>NaN</td>\n      <td>NaN</td>\n      <td>NaN</td>\n      <td>NaN</td>\n      <td>NaN</td>\n      <td>NaN</td>\n      <td>NaN</td>\n      <td>NaN</td>\n      <td>NaN</td>\n      <td>NaN</td>\n      <td>NaN</td>\n      <td>NaN</td>\n      <td>NaN</td>\n      <td>NaN</td>\n    </tr>\n    <tr>\n      <th>6341</th>\n      <td>Երևանի քաղաքապետի</td>\n      <td>NaN</td>\n      <td>NaN</td>\n      <td>NaN</td>\n      <td>NaN</td>\n      <td>NaN</td>\n      <td>NaN</td>\n      <td>NaN</td>\n      <td>NaN</td>\n      <td>NaN</td>\n      <td>NaN</td>\n      <td>NaN</td>\n      <td>NaN</td>\n      <td>NaN</td>\n      <td>NaN</td>\n    </tr>\n    <tr>\n      <th>6365</th>\n      <td>Երևանի քաղաքապետի</td>\n      <td>NaN</td>\n      <td>NaN</td>\n      <td>NaN</td>\n      <td>NaN</td>\n      <td>NaN</td>\n      <td>NaN</td>\n      <td>NaN</td>\n      <td>NaN</td>\n      <td>NaN</td>\n      <td>NaN</td>\n      <td>NaN</td>\n      <td>NaN</td>\n      <td>NaN</td>\n      <td>NaN</td>\n    </tr>\n    <tr>\n      <th>6407</th>\n      <td>Երևանի քաղաքապետի</td>\n      <td>NaN</td>\n      <td>NaN</td>\n      <td>NaN</td>\n      <td>NaN</td>\n      <td>NaN</td>\n      <td>NaN</td>\n      <td>NaN</td>\n      <td>NaN</td>\n      <td>NaN</td>\n      <td>NaN</td>\n      <td>NaN</td>\n      <td>NaN</td>\n      <td>NaN</td>\n      <td>NaN</td>\n    </tr>\n    <tr>\n      <th>6500</th>\n      <td>Երևանի քաղաքապետի</td>\n      <td>NaN</td>\n      <td>NaN</td>\n      <td>NaN</td>\n      <td>NaN</td>\n      <td>NaN</td>\n      <td>NaN</td>\n      <td>NaN</td>\n      <td>NaN</td>\n      <td>NaN</td>\n      <td>NaN</td>\n      <td>NaN</td>\n      <td>NaN</td>\n      <td>NaN</td>\n      <td>NaN</td>\n    </tr>\n    <tr>\n      <th>6521</th>\n      <td>Երևանի քաղաքապետի</td>\n      <td>NaN</td>\n      <td>NaN</td>\n      <td>NaN</td>\n      <td>NaN</td>\n      <td>NaN</td>\n      <td>NaN</td>\n      <td>NaN</td>\n      <td>NaN</td>\n      <td>NaN</td>\n      <td>NaN</td>\n      <td>NaN</td>\n      <td>NaN</td>\n      <td>NaN</td>\n      <td>NaN</td>\n    </tr>\n    <tr>\n      <th>6586</th>\n      <td>Երևանի քաղաքապետի</td>\n      <td>NaN</td>\n      <td>NaN</td>\n      <td>NaN</td>\n      <td>NaN</td>\n      <td>NaN</td>\n      <td>NaN</td>\n      <td>NaN</td>\n      <td>NaN</td>\n      <td>NaN</td>\n      <td>NaN</td>\n      <td>NaN</td>\n      <td>NaN</td>\n      <td>NaN</td>\n      <td>NaN</td>\n    </tr>\n    <tr>\n      <th>6609</th>\n      <td>Երևանի քաղաքապետի</td>\n      <td>NaN</td>\n      <td>NaN</td>\n      <td>NaN</td>\n      <td>NaN</td>\n      <td>NaN</td>\n      <td>NaN</td>\n      <td>NaN</td>\n      <td>NaN</td>\n      <td>NaN</td>\n      <td>NaN</td>\n      <td>NaN</td>\n      <td>NaN</td>\n      <td>NaN</td>\n      <td>NaN</td>\n    </tr>\n    <tr>\n      <th>6660</th>\n      <td>Երևանի քաղաքապետի</td>\n      <td>NaN</td>\n      <td>NaN</td>\n      <td>NaN</td>\n      <td>NaN</td>\n      <td>NaN</td>\n      <td>NaN</td>\n      <td>NaN</td>\n      <td>NaN</td>\n      <td>NaN</td>\n      <td>NaN</td>\n      <td>NaN</td>\n      <td>NaN</td>\n      <td>NaN</td>\n      <td>NaN</td>\n    </tr>\n    <tr>\n      <th>6679</th>\n      <td>Երևանի քաղաքապետի</td>\n      <td>NaN</td>\n      <td>NaN</td>\n      <td>NaN</td>\n      <td>NaN</td>\n      <td>NaN</td>\n      <td>NaN</td>\n      <td>NaN</td>\n      <td>NaN</td>\n      <td>NaN</td>\n      <td>NaN</td>\n      <td>NaN</td>\n      <td>NaN</td>\n      <td>NaN</td>\n      <td>NaN</td>\n    </tr>\n    <tr>\n      <th>6709</th>\n      <td>Երևանի քաղաքապետի</td>\n      <td>NaN</td>\n      <td>NaN</td>\n      <td>NaN</td>\n      <td>NaN</td>\n      <td>NaN</td>\n      <td>NaN</td>\n      <td>NaN</td>\n      <td>NaN</td>\n      <td>NaN</td>\n      <td>NaN</td>\n      <td>NaN</td>\n      <td>NaN</td>\n      <td>NaN</td>\n      <td>NaN</td>\n    </tr>\n    <tr>\n      <th>6929</th>\n      <td>Երևանի քաղաքապետի</td>\n      <td>NaN</td>\n      <td>NaN</td>\n      <td>NaN</td>\n      <td>NaN</td>\n      <td>NaN</td>\n      <td>NaN</td>\n      <td>NaN</td>\n      <td>NaN</td>\n      <td>NaN</td>\n      <td>NaN</td>\n      <td>NaN</td>\n      <td>NaN</td>\n      <td>NaN</td>\n      <td>NaN</td>\n    </tr>\n    <tr>\n      <th>7085</th>\n      <td>Երևանի քաղաքապետի</td>\n      <td>NaN</td>\n      <td>NaN</td>\n      <td>NaN</td>\n      <td>NaN</td>\n      <td>NaN</td>\n      <td>NaN</td>\n      <td>NaN</td>\n      <td>NaN</td>\n      <td>NaN</td>\n      <td>NaN</td>\n      <td>NaN</td>\n      <td>NaN</td>\n      <td>NaN</td>\n      <td>NaN</td>\n    </tr>\n  </tbody>\n</table>\n</div>"
     },
     "execution_count": 24,
     "metadata": {},
     "output_type": "execute_result"
    }
   ],
   "source": [
    "df[df[first_colum] == 'Երևանի քաղաքապետի']"
   ],
   "metadata": {
    "collapsed": false,
    "ExecuteTime": {
     "end_time": "2023-06-18T11:55:50.380592600Z",
     "start_time": "2023-06-18T11:55:50.376564600Z"
    }
   }
  },
  {
   "cell_type": "markdown",
   "source": [
    "# Size of the tables"
   ],
   "metadata": {
    "collapsed": false
   }
  },
  {
   "cell_type": "code",
   "execution_count": 26,
   "outputs": [
    {
     "data": {
      "text/plain": "<Figure size 432x288 with 1 Axes>",
      "image/png": "[encoded data removed]"
     },
     "metadata": {
      "needs_background": "light"
     },
     "output_type": "display_data"
    }
   ],
   "source": [
    "indxs_table = df[df[first_colum] == 'Երևանի քաղաքապետի']\n",
    "plt.hist(np.diff(indxs_table.index), bins=25)\n",
    "plt.xlabel('Size of the tables')\n",
    "plt.ylabel('Count')\n",
    "plt.show()"
   ],
   "metadata": {
    "collapsed": false,
    "ExecuteTime": {
     "end_time": "2023-06-18T11:56:28.973589Z",
     "start_time": "2023-06-18T11:56:28.861887300Z"
    }
   }
  },
  {
   "cell_type": "markdown",
   "source": [
    "# Split .xslx file to multiple tables"
   ],
   "metadata": {
    "collapsed": false
   }
  },
  {
   "cell_type": "code",
   "execution_count": 111,
   "outputs": [],
   "source": [
    "def replace(input_text):\n",
    "    alphabet = [ 'ա','բ','գ','դ','ե','զ','է','ը','թ','ժ','ի','լ','խ','ծ','կ','հ','ձ','ղ','ճ','մ','յ','ն','շ', 'ո', 'չ', 'պ', 'ջ', 'ռ', 'ս', 'վ', 'տ', 'ր', 'ց', 'ւ', 'փ', 'ք', 'օ', 'ֆ', 'և', 'a','n']\n",
    "\n",
    "    flag=False\n",
    "    text=str(input_text)\n",
    "    text = text.lower()\n",
    "    for a in alphabet:\n",
    "        if a in text:\n",
    "            flag=True\n",
    "            break\n",
    "    if flag==False:\n",
    "        text=text.replace(',','').replace('.',',')\n",
    "        text=text.replace('՜','-').replace('֊','-').replace('–','-').replace('■','-')\n",
    "    else:\n",
    "        text=input_text\n",
    "\n",
    "    return text\n",
    "\n"
   ],
   "metadata": {
    "collapsed": false,
    "ExecuteTime": {
     "end_time": "2023-06-18T13:17:37.894290400Z",
     "start_time": "2023-06-18T13:17:37.870297600Z"
    }
   }
  },
  {
   "cell_type": "code",
   "execution_count": 126,
   "outputs": [],
   "source": [
    "df = pd.read_excel('1-11_full.xlsx')"
   ],
   "metadata": {
    "collapsed": false,
    "ExecuteTime": {
     "end_time": "2023-06-18T13:21:12.556532500Z",
     "start_time": "2023-06-18T13:21:11.361726Z"
    }
   }
  },
  {
   "cell_type": "code",
   "execution_count": 138,
   "outputs": [],
   "source": [
    "indxs_table = df[df[first_colum] == 'Երևանի քաղաքապետի']\n",
    "\n",
    "indxs = list(indxs_table.index)\n",
    "folder = 'tables/'\n",
    "\n",
    "for i, index in enumerate(indxs[:-1]):\n",
    "    table_df = df.loc[index - 2:indxs[i + 1] - 2].drop_duplicates(keep='first')\n",
    "    for column_name in table_df.columns:\n",
    "        table_df[column_name]=table_df[column_name].map(replace)\n",
    "\n",
    "    table_df_tmp=[]\n",
    "\n",
    "    table_df=table_df.dropna(how='all', axis=1)\n",
    "\n",
    "    for k in range(table_df.__len__()):\n",
    "        if k<14:\n",
    "            table_df_tmp.append(table_df.iloc[k])\n",
    "        else:\n",
    "            indices=np.where(table_df.iloc[k].isnull())[0]\n",
    "\n",
    "        # if len(indices)/len(table_df.columns)<0.9:\n",
    "            table_df_tmp.append(table_df.iloc[k])\n",
    "\n",
    "    df_tmp = pd.DataFrame(table_df_tmp,\n",
    "                      columns =table_df.columns)\n",
    "    df_tmp.to_excel(f'{folder}{i}_table.xlsx', index=False, header=False, )"
   ],
   "metadata": {
    "collapsed": false,
    "ExecuteTime": {
     "end_time": "2023-06-18T13:32:47.018735200Z",
     "start_time": "2023-06-18T13:32:44.578106600Z"
    }
   }
  }
 ],
 "metadata": {
  "kernelspec": {
   "name": "torch",
   "language": "python",
   "display_name": "torch"
  },
  "language_info": {
   "codemirror_mode": {
    "name": "ipython",
    "version": 2
   },
   "file_extension": ".py",
   "mimetype": "text/x-python",
   "name": "python",
   "nbconvert_exporter": "python",
   "pygments_lexer": "ipython2",
   "version": "2.7.6"
  }
 },
 "nbformat": 4,
 "nbformat_minor": 0
}
